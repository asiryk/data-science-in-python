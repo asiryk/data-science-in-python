{
  "nbformat": 4,
  "nbformat_minor": 0,
  "metadata": {
    "colab": {
      "name": "1.0-python-basics.ipynb",
      "provenance": []
    },
    "kernelspec": {
      "name": "python3",
      "display_name": "Python 3"
    },
    "language_info": {
      "name": "python"
    }
  },
  "cells": [
    {
      "cell_type": "markdown",
      "source": [
        "# Python basics"
      ],
      "metadata": {
        "id": "7Q6qFprZoVQ0"
      }
    },
    {
      "cell_type": "markdown",
      "source": [
        "## Functions"
      ],
      "metadata": {
        "id": "gsyux3cU4xbv"
      }
    },
    {
      "cell_type": "code",
      "source": [
        "def add_numbers(x, y):\n",
        "    return x + y\n",
        "\n",
        "add_numbers(1, 2)"
      ],
      "metadata": {
        "colab": {
          "base_uri": "https://localhost:8080/"
        },
        "id": "GHIqO4JG47HN",
        "outputId": "ec8e760e-3447-4db5-9a00-aa22380fc058"
      },
      "execution_count": 1,
      "outputs": [
        {
          "output_type": "execute_result",
          "data": {
            "text/plain": [
              "3"
            ]
          },
          "metadata": {},
          "execution_count": 1
        }
      ]
    },
    {
      "cell_type": "code",
      "source": [
        "def add_numbers(x,y,z=None):\n",
        "    if (z==None):\n",
        "        return x+y\n",
        "    else:\n",
        "        return x+y+z\n",
        "\n",
        "print(add_numbers(1, 2))\n",
        "print(add_numbers(1, 2, 3))"
      ],
      "metadata": {
        "colab": {
          "base_uri": "https://localhost:8080/"
        },
        "id": "LNC9E-KZ5Aa_",
        "outputId": "de20fc3f-adad-4908-d517-c658518cc554"
      },
      "execution_count": 2,
      "outputs": [
        {
          "output_type": "stream",
          "name": "stdout",
          "text": [
            "3\n",
            "6\n"
          ]
        }
      ]
    },
    {
      "cell_type": "code",
      "source": [
        "def add_numbers(x,y):\n",
        "    return x+y\n",
        "\n",
        "a = add_numbers\n",
        "a(1,2)"
      ],
      "metadata": {
        "colab": {
          "base_uri": "https://localhost:8080/"
        },
        "id": "kNSYMr1d5OSh",
        "outputId": "9cb5d388-8cbd-464e-e03b-1bcd8320d124"
      },
      "execution_count": 3,
      "outputs": [
        {
          "output_type": "execute_result",
          "data": {
            "text/plain": [
              "3"
            ]
          },
          "metadata": {},
          "execution_count": 3
        }
      ]
    },
    {
      "cell_type": "markdown",
      "source": [
        "## Types and Sequences"
      ],
      "metadata": {
        "id": "BbqK44kY5UxF"
      }
    },
    {
      "cell_type": "markdown",
      "source": [
        "### Types"
      ],
      "metadata": {
        "id": "y4RRRC1--DO9"
      }
    },
    {
      "cell_type": "code",
      "source": [
        "# Use `type` to return the object's type.\n",
        "print(type('This is a string'))\n",
        "print(type(None))\n",
        "print(type(False))\n",
        "print(type(1))\n",
        "print(type(1.0))\n",
        "print(type(add_numbers))\n",
        "print(type( (1, 'a', 2, 'b') ))\n",
        "print(type( [1, 'a', 2, 'b'] ))\n",
        "print(type( {'a', 'b', 'c'} ))\n",
        "print(type( {'key': 'val', 'num': 1, 1: 2} ))"
      ],
      "metadata": {
        "id": "GHdmfBMg5dRH",
        "colab": {
          "base_uri": "https://localhost:8080/"
        },
        "outputId": "25fede6b-71d8-4e32-ebde-5421259a461a"
      },
      "execution_count": 4,
      "outputs": [
        {
          "output_type": "stream",
          "name": "stdout",
          "text": [
            "<class 'str'>\n",
            "<class 'NoneType'>\n",
            "<class 'bool'>\n",
            "<class 'int'>\n",
            "<class 'float'>\n",
            "<class 'function'>\n",
            "<class 'tuple'>\n",
            "<class 'list'>\n",
            "<class 'set'>\n",
            "<class 'dict'>\n"
          ]
        }
      ]
    },
    {
      "cell_type": "code",
      "source": [
        "# You can unpack a sequence into different variables:\n",
        "x = ('Christopher', 'Brooks', 'brooksch@umich.edu')\n",
        "fname, lname, email = x"
      ],
      "metadata": {
        "id": "WWw6KQD3ANYK"
      },
      "execution_count": 5,
      "outputs": []
    },
    {
      "cell_type": "markdown",
      "source": [
        "### Lists\n",
        "Lists are a mutable data structure."
      ],
      "metadata": {
        "id": "Wu4cTlF5-H4n"
      }
    },
    {
      "cell_type": "code",
      "source": [
        "# Use `append` to append an object to a list.\n",
        "x = [1, 'a', 2, 'b']\n",
        "x.append(3.3)\n",
        "\n",
        "print(x)"
      ],
      "metadata": {
        "id": "Y0hIj_gn7Q_E",
        "colab": {
          "base_uri": "https://localhost:8080/"
        },
        "outputId": "59e8fe5b-3c80-4d03-8482-922774170a09"
      },
      "execution_count": 6,
      "outputs": [
        {
          "output_type": "stream",
          "name": "stdout",
          "text": [
            "[1, 'a', 2, 'b', 3.3]\n"
          ]
        }
      ]
    },
    {
      "cell_type": "code",
      "source": [
        "# This is an example of how to loop through each item in the list.\n",
        "for item in x:\n",
        "    print(item)"
      ],
      "metadata": {
        "id": "u3sS_LL27iyT",
        "colab": {
          "base_uri": "https://localhost:8080/"
        },
        "outputId": "1b5fd985-410d-44ab-b973-f643b054e31a"
      },
      "execution_count": 7,
      "outputs": [
        {
          "output_type": "stream",
          "name": "stdout",
          "text": [
            "1\n",
            "a\n",
            "2\n",
            "b\n",
            "3.3\n"
          ]
        }
      ]
    },
    {
      "cell_type": "code",
      "source": [
        "# Or using the indexing operator:\n",
        "i=0\n",
        "while( i != len(x) ):\n",
        "    print(x[i])\n",
        "    i = i + 1"
      ],
      "metadata": {
        "id": "RkG9Mbzt7pQ7",
        "colab": {
          "base_uri": "https://localhost:8080/"
        },
        "outputId": "8dd06b2d-f23d-4fe6-95be-ed38363996de"
      },
      "execution_count": 8,
      "outputs": [
        {
          "output_type": "stream",
          "name": "stdout",
          "text": [
            "1\n",
            "a\n",
            "2\n",
            "b\n",
            "3.3\n"
          ]
        }
      ]
    },
    {
      "cell_type": "code",
      "source": [
        "# Use `+` to concatenate lists.\n",
        "print([1,2] + [3,4])"
      ],
      "metadata": {
        "colab": {
          "base_uri": "https://localhost:8080/"
        },
        "id": "jpQWChNN72so",
        "outputId": "2e3b39e3-396b-4554-f191-d4dd5a2b333f"
      },
      "execution_count": 9,
      "outputs": [
        {
          "output_type": "stream",
          "name": "stdout",
          "text": [
            "[1, 2, 3, 4]\n"
          ]
        }
      ]
    },
    {
      "cell_type": "code",
      "source": [
        "# Use `*` to repeat lists.\n",
        "print([1] * 3)"
      ],
      "metadata": {
        "id": "eVlK3Jym8ESn",
        "colab": {
          "base_uri": "https://localhost:8080/"
        },
        "outputId": "bc3ecbaa-09ae-4ac3-e50e-07855049989e"
      },
      "execution_count": 10,
      "outputs": [
        {
          "output_type": "stream",
          "name": "stdout",
          "text": [
            "[1, 1, 1]\n"
          ]
        }
      ]
    },
    {
      "cell_type": "code",
      "source": [
        "# Use the `in` operator to check if something is inside a list.\n",
        "print(1 in [1, 2, 3])"
      ],
      "metadata": {
        "id": "sFS5z8lM8R8d",
        "colab": {
          "base_uri": "https://localhost:8080/"
        },
        "outputId": "20fe2e4e-6b2e-4eb6-8865-769c8c0f0491"
      },
      "execution_count": 11,
      "outputs": [
        {
          "output_type": "stream",
          "name": "stdout",
          "text": [
            "True\n"
          ]
        }
      ]
    },
    {
      "cell_type": "markdown",
      "source": [
        "### Dictionaries\n",
        "Dictionaries associate keys with values."
      ],
      "metadata": {
        "id": "7gAvCU3d-Ua3"
      }
    },
    {
      "cell_type": "code",
      "source": [
        "# Dictionaries associate keys with values.\n",
        "\n",
        "x = {'Christopher Brooks': 'brooksch@umich.edu', 'Bill Gates': 'billg@microsoft.com'}\n",
        "x['Christopher Brooks'] # Retrieve a value by using the indexing operator"
      ],
      "metadata": {
        "colab": {
          "base_uri": "https://localhost:8080/",
          "height": 405
        },
        "id": "zfMYSVsL93yN",
        "outputId": "ad572c5c-0bbb-49ce-8184-5772fcfce0be"
      },
      "execution_count": 12,
      "outputs": [
        {
          "output_type": "execute_result",
          "data": {
            "application/vnd.google.colaboratory.intrinsic+json": {
              "type": "string"
            },
            "text/plain": [
              "'brooksch@umich.edu'"
            ]
          },
          "metadata": {},
          "execution_count": 12
        }
      ]
    },
    {
      "cell_type": "code",
      "source": [
        "x['Kevyn Collins-Thompson'] = None\n",
        "print(x['Kevyn Collins-Thompson'])"
      ],
      "metadata": {
        "colab": {
          "base_uri": "https://localhost:8080/"
        },
        "id": "0XOxqHCI_Aup",
        "outputId": "e6c0e656-cdf5-4ef8-e6af-73acee330299"
      },
      "execution_count": 13,
      "outputs": [
        {
          "output_type": "stream",
          "name": "stdout",
          "text": [
            "None\n"
          ]
        }
      ]
    },
    {
      "cell_type": "code",
      "source": [
        "# Iterate over all of the keys:\n",
        "for name in x:\n",
        "    print(x[name])"
      ],
      "metadata": {
        "colab": {
          "base_uri": "https://localhost:8080/"
        },
        "id": "zqTFxj7P_ICu",
        "outputId": "38543a61-9681-428a-e616-e803ae1e4b4a"
      },
      "execution_count": 14,
      "outputs": [
        {
          "output_type": "stream",
          "name": "stdout",
          "text": [
            "brooksch@umich.edu\n",
            "billg@microsoft.com\n",
            "None\n"
          ]
        }
      ]
    },
    {
      "cell_type": "code",
      "source": [
        "# Iterate over all of the values:\n",
        "for email in x.values():\n",
        "    print(email)"
      ],
      "metadata": {
        "id": "8VyiMdOn_S9E",
        "colab": {
          "base_uri": "https://localhost:8080/"
        },
        "outputId": "1584cca4-3ab2-4388-fac1-84e28aad8cce"
      },
      "execution_count": 15,
      "outputs": [
        {
          "output_type": "stream",
          "name": "stdout",
          "text": [
            "brooksch@umich.edu\n",
            "billg@microsoft.com\n",
            "None\n"
          ]
        }
      ]
    },
    {
      "cell_type": "code",
      "source": [
        "# Iterate over all of the items in the dictionary:\n",
        "for name, email in x.items():\n",
        "    print(name)\n",
        "    print(email)"
      ],
      "metadata": {
        "colab": {
          "base_uri": "https://localhost:8080/"
        },
        "id": "L4F2YAN__aVp",
        "outputId": "61522f33-3dd1-428d-aa21-69a395b67b00"
      },
      "execution_count": 16,
      "outputs": [
        {
          "output_type": "stream",
          "name": "stdout",
          "text": [
            "Christopher Brooks\n",
            "brooksch@umich.edu\n",
            "Bill Gates\n",
            "billg@microsoft.com\n",
            "Kevyn Collins-Thompson\n",
            "None\n"
          ]
        }
      ]
    },
    {
      "cell_type": "markdown",
      "source": [
        "### Strings"
      ],
      "metadata": {
        "id": "sN0Bp8T28pSW"
      }
    },
    {
      "cell_type": "code",
      "source": [
        "# Since strings are just lists of characters, all lists operations are available.\n",
        "x = 'This is a string'\n",
        "print(x[0]) # first character\n",
        "print(x[0:1]) # first character, but we have explicitly set the end character\n",
        "print(x[0:2]) # first two characters\n",
        "print(x[-1])"
      ],
      "metadata": {
        "colab": {
          "base_uri": "https://localhost:8080/"
        },
        "id": "meTfz0dM8rlh",
        "outputId": "a93343f4-1e92-487b-9595-ca792f726bf7"
      },
      "execution_count": 17,
      "outputs": [
        {
          "output_type": "stream",
          "name": "stdout",
          "text": [
            "T\n",
            "T\n",
            "Th\n",
            "g\n"
          ]
        }
      ]
    },
    {
      "cell_type": "code",
      "source": [
        "firstname = 'Christopher'\n",
        "lastname = 'Brooks'\n",
        "\n",
        "print(firstname + ' ' + lastname)\n",
        "print(firstname * 3)\n",
        "print('Chris' in firstname)"
      ],
      "metadata": {
        "colab": {
          "base_uri": "https://localhost:8080/"
        },
        "id": "-yOwSm6T9l2b",
        "outputId": "6e475a9c-8b32-45ca-ecee-fa1d0739f0ea"
      },
      "execution_count": 18,
      "outputs": [
        {
          "output_type": "stream",
          "name": "stdout",
          "text": [
            "Christopher Brooks\n",
            "ChristopherChristopherChristopher\n",
            "True\n"
          ]
        }
      ]
    },
    {
      "cell_type": "code",
      "source": [
        "# `split` returns a list of all the words in a string, or a list split on a specific character.\n",
        "firstname = 'Christopher Arthur Hansen Brooks'.split(' ')[0] # [0] selects the first element of the list\n",
        "lastname = 'Christopher Arthur Hansen Brooks'.split(' ')[-1] # [-1] selects the last element of the list\n",
        "print(firstname)\n",
        "print(lastname)"
      ],
      "metadata": {
        "id": "G3u2BhLV9q4P",
        "colab": {
          "base_uri": "https://localhost:8080/"
        },
        "outputId": "787a516a-c10b-4a9e-c139-97dab4177872"
      },
      "execution_count": 19,
      "outputs": [
        {
          "output_type": "stream",
          "name": "stdout",
          "text": [
            "Christopher\n",
            "Brooks\n"
          ]
        }
      ]
    },
    {
      "cell_type": "code",
      "source": [
        "# Python has a built in method for convenient string formatting.\n",
        "sales_record = {\n",
        "'price': 3.24,\n",
        "'num_items': 4,\n",
        "'person': 'Chris'}\n",
        "\n",
        "sales_statement = '{} bought {} item(s) at a price of {} each for a total of {}'\n",
        "\n",
        "print(sales_statement.format(sales_record['person'],\n",
        "                             sales_record['num_items'],\n",
        "                             sales_record['price'],\n",
        "                             sales_record['num_items']*sales_record['price']))"
      ],
      "metadata": {
        "colab": {
          "base_uri": "https://localhost:8080/"
        },
        "id": "F_ARsp-NAEn8",
        "outputId": "a9cd09ef-b3bd-4fb9-d89f-d12e6c056f49"
      },
      "execution_count": 20,
      "outputs": [
        {
          "output_type": "stream",
          "name": "stdout",
          "text": [
            "Chris bought 4 item(s) at a price of 3.24 each for a total of 12.96\n"
          ]
        }
      ]
    },
    {
      "cell_type": "markdown",
      "source": [
        "## Reading and Writing CSV files"
      ],
      "metadata": {
        "id": "43zJl-V8AbHG"
      }
    },
    {
      "cell_type": "markdown",
      "source": [
        "<br>\n",
        "Let's import our datafile mpg.csv, which contains fuel economy data for 234 cars.\n",
        "\n",
        "* mpg : miles per gallon\n",
        "* class : car classification\n",
        "* cty : city mpg\n",
        "* cyl : # of cylinders\n",
        "* displ : engine displacement in liters\n",
        "* drv : f = front-wheel drive, r = rear wheel drive, 4 = 4wd\n",
        "* fl : fuel (e = ethanol E85, d = diesel, r = regular, p = premium, c = CNG)\n",
        "* hwy : highway mpg\n",
        "* manufacturer : automobile manufacturer\n",
        "* model : model of car\n",
        "* trans : type of transmission\n",
        "* year : model year"
      ],
      "metadata": {
        "id": "qQbPZEBmAm69"
      }
    },
    {
      "cell_type": "code",
      "source": [
        "import csv\n",
        "\n",
        "%precision 2\n",
        "\n",
        "with open('datasets/mpg.csv') as csvfile:\n",
        "  mpg = list(csv.DictReader(csvfile))\n",
        "\n",
        "print(mpg[:3])\n",
        "print(len(mpg))"
      ],
      "metadata": {
        "colab": {
          "base_uri": "https://localhost:8080/"
        },
        "id": "d7qrpLzOAt9d",
        "outputId": "10870ca3-b401-4c29-cad9-0d84b7805148"
      },
      "execution_count": 21,
      "outputs": [
        {
          "output_type": "stream",
          "name": "stdout",
          "text": [
            "[OrderedDict([('', '1'), ('manufacturer', 'audi'), ('model', 'a4'), ('displ', '1.8'), ('year', '1999'), ('cyl', '4'), ('trans', 'auto(l5)'), ('drv', 'f'), ('cty', '18'), ('hwy', '29'), ('fl', 'p'), ('class', 'compact')]), OrderedDict([('', '2'), ('manufacturer', 'audi'), ('model', 'a4'), ('displ', '1.8'), ('year', '1999'), ('cyl', '4'), ('trans', 'manual(m5)'), ('drv', 'f'), ('cty', '21'), ('hwy', '29'), ('fl', 'p'), ('class', 'compact')]), OrderedDict([('', '3'), ('manufacturer', 'audi'), ('model', 'a4'), ('displ', '2'), ('year', '2008'), ('cyl', '4'), ('trans', 'manual(m6)'), ('drv', 'f'), ('cty', '20'), ('hwy', '31'), ('fl', 'p'), ('class', 'compact')])]\n",
            "234\n"
          ]
        }
      ]
    },
    {
      "cell_type": "code",
      "source": [
        "# `keys` gives us the column names of our csv.\n",
        "print(mpg[0].keys())"
      ],
      "metadata": {
        "colab": {
          "base_uri": "https://localhost:8080/"
        },
        "id": "_lH0m3A5B07D",
        "outputId": "5b56968f-4e7a-43fd-998a-ddb5881a8163"
      },
      "execution_count": 22,
      "outputs": [
        {
          "output_type": "stream",
          "name": "stdout",
          "text": [
            "odict_keys(['', 'manufacturer', 'model', 'displ', 'year', 'cyl', 'trans', 'drv', 'cty', 'hwy', 'fl', 'class'])\n"
          ]
        }
      ]
    },
    {
      "cell_type": "code",
      "source": [
        "# This is how to find the average cty fuel economy across all cars. \n",
        "# All values in the dictionaries are strings, so we need to convert to float.\n",
        "print(sum(float(d['cty']) for d in mpg) / len(mpg))"
      ],
      "metadata": {
        "colab": {
          "base_uri": "https://localhost:8080/"
        },
        "id": "8eYcqt7bB9u2",
        "outputId": "63e3023f-e44c-4d56-81c9-5f4092378961"
      },
      "execution_count": 23,
      "outputs": [
        {
          "output_type": "stream",
          "name": "stdout",
          "text": [
            "16.858974358974358\n"
          ]
        }
      ]
    },
    {
      "cell_type": "code",
      "source": [
        "# Use `set` to return the unique values for the number of cylinders the cars in our dataset have.\n",
        "cylinders = set(d['cyl'] for d in mpg)\n",
        "print(cylinders)"
      ],
      "metadata": {
        "colab": {
          "base_uri": "https://localhost:8080/"
        },
        "id": "wuU4wiSwCJea",
        "outputId": "9638528c-9ddb-44f3-cdfe-803a986381a8"
      },
      "execution_count": 24,
      "outputs": [
        {
          "output_type": "stream",
          "name": "stdout",
          "text": [
            "{'5', '4', '6', '8'}\n"
          ]
        }
      ]
    },
    {
      "cell_type": "code",
      "source": [
        "# Here's a more complex example where we are grouping the cars by number of cylinder,\n",
        "# and finding the average cty mpg for each group.\n",
        "\n",
        "CtyMpgByCyl = []\n",
        "\n",
        "for c in cylinders: # iterate over all the cylinder levels\n",
        "    summpg = 0\n",
        "    cyltypecount = 0\n",
        "    for d in mpg: # iterate over all dictionaries\n",
        "        if d['cyl'] == c: # if the cylinder level type matches,\n",
        "            summpg += float(d['cty']) # add the cty mpg\n",
        "            cyltypecount += 1 # increment the count\n",
        "    CtyMpgByCyl.append((c, summpg / cyltypecount)) # append the tuple ('cylinder', 'avg mpg')\n",
        "\n",
        "CtyMpgByCyl.sort(key=lambda x: x[0])\n",
        "\n",
        "print(CtyMpgByCyl)"
      ],
      "metadata": {
        "colab": {
          "base_uri": "https://localhost:8080/"
        },
        "id": "XTugTz1eCVHa",
        "outputId": "b5c65837-dad0-4901-a5b3-70ad350933c9"
      },
      "execution_count": 25,
      "outputs": [
        {
          "output_type": "stream",
          "name": "stdout",
          "text": [
            "[('4', 21.012345679012345), ('5', 20.5), ('6', 16.21518987341772), ('8', 12.571428571428571)]\n"
          ]
        }
      ]
    },
    {
      "cell_type": "markdown",
      "source": [
        "## Dates and Times"
      ],
      "metadata": {
        "id": "6UhjEYSZvNpJ"
      }
    },
    {
      "cell_type": "code",
      "source": [
        "import datetime as dt\n",
        "import time as tm\n",
        "\n",
        "# `time` returns the current time in seconds since the Epoch. (January 1st, 1970)\n",
        "print('timestamp: ', tm.time())\n",
        "\n",
        "# Convert the timestamp to datetime.\n",
        "dtnow = dt.datetime.fromtimestamp(tm.time())\n",
        "print('datetime: ', dtnow)\n",
        "print(dtnow.year, dtnow.month, dtnow.day, dtnow.hour)\n",
        "\n",
        "# `timedelta` is a duration expressing the difference between two dates.\n",
        "delta = dt.timedelta(days = 100)\n",
        "print(\"\\ndelta = \" + str(delta))\n",
        "\n",
        "# `date.today` returns the current local date.\n",
        "today = dt.date.today()\n",
        "print('\\n' + str(today))\n",
        "print(today - delta)\n",
        "print(today > today - delta)"
      ],
      "metadata": {
        "colab": {
          "base_uri": "https://localhost:8080/"
        },
        "id": "kdZ7-i08uVEU",
        "outputId": "be97621f-7d4e-4c6d-b5e8-7382010c528b"
      },
      "execution_count": 26,
      "outputs": [
        {
          "output_type": "stream",
          "name": "stdout",
          "text": [
            "timestamp:  1641669239.590663\n",
            "datetime:  2022-01-08 19:13:59.592333\n",
            "2022 1 8 19\n",
            "\n",
            "delta = 100 days, 0:00:00\n",
            "\n",
            "2022-01-08\n",
            "2021-09-30\n",
            "True\n"
          ]
        }
      ]
    },
    {
      "cell_type": "markdown",
      "source": [
        "## Objects and map()"
      ],
      "metadata": {
        "id": "7WUv9JIdElPw"
      }
    },
    {
      "cell_type": "code",
      "source": [
        "# An example of a class in python:\n",
        "class Person:\n",
        "    department = 'School of Information' #a class variable\n",
        "\n",
        "    def set_name(self, new_name): #a method\n",
        "        self.name = new_name\n",
        "    def set_location(self, new_location):\n",
        "        self.location = new_location\n",
        "\n",
        "person = Person()\n",
        "person.set_name('Christopher Brooks')\n",
        "person.set_location('Ann Arbor, MI, USA')\n",
        "print('{} live in {} and works in the department {}'.format(person.name, person.location, person.department))"
      ],
      "metadata": {
        "id": "oHJKxJCrEnqo",
        "colab": {
          "base_uri": "https://localhost:8080/"
        },
        "outputId": "d74edbfb-e7a3-4d95-82b4-4b6abb1b04e1"
      },
      "execution_count": 27,
      "outputs": [
        {
          "output_type": "stream",
          "name": "stdout",
          "text": [
            "Christopher Brooks live in Ann Arbor, MI, USA and works in the department School of Information\n"
          ]
        }
      ]
    },
    {
      "cell_type": "code",
      "source": [
        "# Here's an example of mapping the `min` function between two lists.\n",
        "store1 = [10.00, 11.00, 12.34, 2.34]\n",
        "store2 = [9.00, 11.10, 12.34, 2.01]\n",
        "cheapest = map(min, store1, store2)\n",
        "print(cheapest)\n",
        "\n",
        "for item in cheapest:\n",
        "    print(item)"
      ],
      "metadata": {
        "colab": {
          "base_uri": "https://localhost:8080/"
        },
        "id": "7SzQVyXeEu77",
        "outputId": "e8239177-8d6a-4afa-b134-418b46e405e9"
      },
      "execution_count": 28,
      "outputs": [
        {
          "output_type": "stream",
          "name": "stdout",
          "text": [
            "<map object at 0x7fd479d3f610>\n",
            "9.0\n",
            "11.0\n",
            "12.34\n",
            "2.01\n"
          ]
        }
      ]
    },
    {
      "cell_type": "markdown",
      "source": [
        "## Lambda and List Comprehensions"
      ],
      "metadata": {
        "id": "AQ48_SSPFL2P"
      }
    },
    {
      "cell_type": "code",
      "source": [
        "# Here's an example of lambda that takes in three parameters and adds the first two.\n",
        "my_function = lambda a, b, c : a + b\n",
        "print(my_function(1, 2, 3))"
      ],
      "metadata": {
        "colab": {
          "base_uri": "https://localhost:8080/"
        },
        "id": "9rcwAHFzGCDx",
        "outputId": "12b2a648-9386-42be-f7c9-253ee7705510"
      },
      "execution_count": 29,
      "outputs": [
        {
          "output_type": "stream",
          "name": "stdout",
          "text": [
            "3\n"
          ]
        }
      ]
    },
    {
      "cell_type": "code",
      "source": [
        "# List comprehension.\n",
        "my_list = [number for number in range(0,100) if number % 2 == 0]\n",
        "print(my_list)"
      ],
      "metadata": {
        "colab": {
          "base_uri": "https://localhost:8080/"
        },
        "id": "S_BPh_gGGLhv",
        "outputId": "0f1518c0-b35b-402c-db73-5cd8aa382a98"
      },
      "execution_count": 30,
      "outputs": [
        {
          "output_type": "stream",
          "name": "stdout",
          "text": [
            "[0, 2, 4, 6, 8, 10, 12, 14, 16, 18, 20, 22, 24, 26, 28, 30, 32, 34, 36, 38, 40, 42, 44, 46, 48, 50, 52, 54, 56, 58, 60, 62, 64, 66, 68, 70, 72, 74, 76, 78, 80, 82, 84, 86, 88, 90, 92, 94, 96, 98]\n"
          ]
        }
      ]
    },
    {
      "cell_type": "code",
      "source": [
        "people = ['Dr. Christopher Brooks', 'Dr. Kevyn Collins-Thompson', 'Dr. VG Vinod Vydiswaran', 'Dr. Daniel Romero']\n",
        "\n",
        "def split_title_and_name(person):\n",
        "    title = person.split()[0]\n",
        "    lastname = person.split()[-1]\n",
        "    return '{} {}'.format(title, lastname)\n",
        "\n",
        "list(map(split_title_and_name, people))\n",
        "\n",
        "my_list = [number for number in range(0, 1000) if number % 2 == 0]\n",
        "print(my_list)\n",
        "print([j * i for i in range(10) for j in range(10)]) # i by j 2d matrix"
      ],
      "metadata": {
        "colab": {
          "base_uri": "https://localhost:8080/"
        },
        "id": "nF5i8RnTzbcn",
        "outputId": "d03f72c5-b4ae-461b-a284-56771f75b47d"
      },
      "execution_count": 31,
      "outputs": [
        {
          "output_type": "stream",
          "name": "stdout",
          "text": [
            "[0, 2, 4, 6, 8, 10, 12, 14, 16, 18, 20, 22, 24, 26, 28, 30, 32, 34, 36, 38, 40, 42, 44, 46, 48, 50, 52, 54, 56, 58, 60, 62, 64, 66, 68, 70, 72, 74, 76, 78, 80, 82, 84, 86, 88, 90, 92, 94, 96, 98, 100, 102, 104, 106, 108, 110, 112, 114, 116, 118, 120, 122, 124, 126, 128, 130, 132, 134, 136, 138, 140, 142, 144, 146, 148, 150, 152, 154, 156, 158, 160, 162, 164, 166, 168, 170, 172, 174, 176, 178, 180, 182, 184, 186, 188, 190, 192, 194, 196, 198, 200, 202, 204, 206, 208, 210, 212, 214, 216, 218, 220, 222, 224, 226, 228, 230, 232, 234, 236, 238, 240, 242, 244, 246, 248, 250, 252, 254, 256, 258, 260, 262, 264, 266, 268, 270, 272, 274, 276, 278, 280, 282, 284, 286, 288, 290, 292, 294, 296, 298, 300, 302, 304, 306, 308, 310, 312, 314, 316, 318, 320, 322, 324, 326, 328, 330, 332, 334, 336, 338, 340, 342, 344, 346, 348, 350, 352, 354, 356, 358, 360, 362, 364, 366, 368, 370, 372, 374, 376, 378, 380, 382, 384, 386, 388, 390, 392, 394, 396, 398, 400, 402, 404, 406, 408, 410, 412, 414, 416, 418, 420, 422, 424, 426, 428, 430, 432, 434, 436, 438, 440, 442, 444, 446, 448, 450, 452, 454, 456, 458, 460, 462, 464, 466, 468, 470, 472, 474, 476, 478, 480, 482, 484, 486, 488, 490, 492, 494, 496, 498, 500, 502, 504, 506, 508, 510, 512, 514, 516, 518, 520, 522, 524, 526, 528, 530, 532, 534, 536, 538, 540, 542, 544, 546, 548, 550, 552, 554, 556, 558, 560, 562, 564, 566, 568, 570, 572, 574, 576, 578, 580, 582, 584, 586, 588, 590, 592, 594, 596, 598, 600, 602, 604, 606, 608, 610, 612, 614, 616, 618, 620, 622, 624, 626, 628, 630, 632, 634, 636, 638, 640, 642, 644, 646, 648, 650, 652, 654, 656, 658, 660, 662, 664, 666, 668, 670, 672, 674, 676, 678, 680, 682, 684, 686, 688, 690, 692, 694, 696, 698, 700, 702, 704, 706, 708, 710, 712, 714, 716, 718, 720, 722, 724, 726, 728, 730, 732, 734, 736, 738, 740, 742, 744, 746, 748, 750, 752, 754, 756, 758, 760, 762, 764, 766, 768, 770, 772, 774, 776, 778, 780, 782, 784, 786, 788, 790, 792, 794, 796, 798, 800, 802, 804, 806, 808, 810, 812, 814, 816, 818, 820, 822, 824, 826, 828, 830, 832, 834, 836, 838, 840, 842, 844, 846, 848, 850, 852, 854, 856, 858, 860, 862, 864, 866, 868, 870, 872, 874, 876, 878, 880, 882, 884, 886, 888, 890, 892, 894, 896, 898, 900, 902, 904, 906, 908, 910, 912, 914, 916, 918, 920, 922, 924, 926, 928, 930, 932, 934, 936, 938, 940, 942, 944, 946, 948, 950, 952, 954, 956, 958, 960, 962, 964, 966, 968, 970, 972, 974, 976, 978, 980, 982, 984, 986, 988, 990, 992, 994, 996, 998]\n",
            "[0, 0, 0, 0, 0, 0, 0, 0, 0, 0, 0, 1, 2, 3, 4, 5, 6, 7, 8, 9, 0, 2, 4, 6, 8, 10, 12, 14, 16, 18, 0, 3, 6, 9, 12, 15, 18, 21, 24, 27, 0, 4, 8, 12, 16, 20, 24, 28, 32, 36, 0, 5, 10, 15, 20, 25, 30, 35, 40, 45, 0, 6, 12, 18, 24, 30, 36, 42, 48, 54, 0, 7, 14, 21, 28, 35, 42, 49, 56, 63, 0, 8, 16, 24, 32, 40, 48, 56, 64, 72, 0, 9, 18, 27, 36, 45, 54, 63, 72, 81]\n"
          ]
        }
      ]
    },
    {
      "cell_type": "code",
      "source": [
        "# create unique ids, i.e. aa00\n",
        "lowercase = 'abcdefghijklmnopqrstuvwxyz'\n",
        "digits = '0123456789'\n",
        "\n",
        "correct_answer = [a + b + c + d for a in lowercase for b in lowercase for c in digits for d in digits]\n",
        "print(len(correct_answer))\n",
        "print(correct_answer[:10])"
      ],
      "metadata": {
        "colab": {
          "base_uri": "https://localhost:8080/"
        },
        "id": "ZIHiCchsFgxp",
        "outputId": "9ff9dfee-e3d8-46ff-8960-192a02b7e74e"
      },
      "execution_count": 32,
      "outputs": [
        {
          "output_type": "stream",
          "name": "stdout",
          "text": [
            "67600\n",
            "['aa00', 'aa01', 'aa02', 'aa03', 'aa04', 'aa05', 'aa06', 'aa07', 'aa08', 'aa09']\n"
          ]
        }
      ]
    }
  ]
}